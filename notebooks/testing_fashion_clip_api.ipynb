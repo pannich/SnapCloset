{
 "cells": [
  {
   "cell_type": "code",
   "execution_count": 3,
   "id": "5217ad19-1c99-45b3-ad73-c3e8e37dda3c",
   "metadata": {},
   "outputs": [
    {
     "name": "stdout",
     "output_type": "stream",
     "text": [
      "The autoreload extension is already loaded. To reload it, use:\n",
      "  %reload_ext autoreload\n"
     ]
    }
   ],
   "source": [
    "%load_ext autoreload\n",
    "%autoreload 2"
   ]
  },
  {
   "cell_type": "code",
   "execution_count": 4,
   "id": "599bf520-3d5b-440e-9f5c-6daf889df11f",
   "metadata": {},
   "outputs": [],
   "source": [
    "%reload_ext autoreload"
   ]
  },
  {
   "cell_type": "code",
   "execution_count": 1,
   "id": "a1770d3f-db85-48cd-9391-9b1377271b0c",
   "metadata": {},
   "outputs": [
    {
     "name": "stderr",
     "output_type": "stream",
     "text": [
      "/opt/conda/lib/python3.11/site-packages/tqdm/auto.py:21: TqdmWarning: IProgress not found. Please update jupyter and ipywidgets. See https://ipywidgets.readthedocs.io/en/stable/user_install.html\n",
      "  from .autonotebook import tqdm as notebook_tqdm\n"
     ]
    },
    {
     "name": "stdout",
     "output_type": "stream",
     "text": [
      "Cache is at /home/jovyan/.cache/fashion_clip\n"
     ]
    }
   ],
   "source": [
    "import os\n",
    "from fashion_clip.fashion_clip import FashionCLIP, FCLIPDataset\n",
    "from fashion_clip.utils import get_cache_directory, display_images\n",
    "print(\"Cache is at {}\".format(get_cache_directory()))"
   ]
  },
  {
   "cell_type": "code",
   "execution_count": null,
   "id": "52210a9c-5ebd-4a7d-8232-5db57fedc763",
   "metadata": {},
   "outputs": [],
   "source": []
  }
 ],
 "metadata": {
  "kernelspec": {
   "display_name": "Python 3 (ipykernel)",
   "language": "python",
   "name": "python3"
  },
  "language_info": {
   "codemirror_mode": {
    "name": "ipython",
    "version": 3
   },
   "file_extension": ".py",
   "mimetype": "text/x-python",
   "name": "python",
   "nbconvert_exporter": "python",
   "pygments_lexer": "ipython3",
   "version": "3.11.6"
  }
 },
 "nbformat": 4,
 "nbformat_minor": 5
}
